"""
Qiskit Two Qubit Simulation

This script simulates a two qubit quantum circuit using Qiskit Aer statevector simulator.
It applies rotations (Rx, Ry) and X gate, then computes the resulting statevector
and density matrix.
"""



from qiskit_ionq import IonQProvider
from qiskit import QuantumCircuit
from qiskit_aer import Aer
from qiskit.quantum_info import Statevector, DensityMatrix
import numpy as np

# IonQ provider token 
provider = IonQProvider(token="")  

# Aer simulator backend
simulator_backend = Aer.get_backend('statevector_simulator')

# TWo qubit quantum circuit
qc = QuantumCircuit(2, 2)
qc.ry(1.42, 0)
qc.x(0)
qc.ry(1.45, 1)
qc.rx(3.14, 1)

# Run simulation
job = simulator_backend.run(qc)
result = job.result()
statevector = result.get_statevector(qc)

# Display statevector
np.set_printoptions(precision=10, suppress=False)
print("Statevector:", statevector)

# Display density matrix
rho = DensityMatrix(statevector)
np.set_printoptions(precision=10, suppress=True)
print("Density matrix:\n", rho.data)

# Print circuit diagram
print(qc)
