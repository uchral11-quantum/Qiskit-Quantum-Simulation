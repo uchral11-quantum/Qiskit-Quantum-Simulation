"""
Two Qubit Gate Model with Random Theta

Simulates a two qubit quantum circuit using Qiskit Aer.
Random rotation angles (theta) are applied to qubits, followed by X, Ry, Rx gates.
Computes the resulting statevector and density matrix.
"""

from qiskit_ionq import IonQProvider
from qiskit import QuantumCircuit
from qiskit_aer import Aer
from qiskit.quantum_info import Statevector, DensityMatrix
import numpy as np

# IonQ provider token (optional)
provider = IonQProvider(token="")  

# Aer simulator backend
simulator_backend = Aer.get_backend('statevector_simulator')

# Random rotation angles
theta_0 = np.random.uniform(0, 2 * np.pi)
theta_1 = np.random.uniform(0, 2 * np.pi)
theta_2 = np.random.uniform(0, 2 * np.pi)

print(f"Theta_0 = {theta_0:.3f} рад, Theta_1 = {theta_1:.3f} рад, Theta_2 = {theta_2:.3f} рад")

# two qubit quantum circuit
qc = QuantumCircuit(2, 2)
qc.ry(theta_0, 0)
qc.x(0)
qc.ry(theta_1, 1)
qc.rx(theta_2, 1)

# Run simulation
job = simulator_backend.run(qc)
result = job.result()
statevector = result.get_statevector(qc)

# Display statevector
np.set_printoptions(precision=3, suppress=False)
print("Төлөвийн вектор:", statevector)

# Display density matrix
rho = DensityMatrix(statevector)
np.set_printoptions(precision=3, suppress=True)
print("Нягтын матриц:\n", rho.data)

# Print circuit diagram
print(qc)
